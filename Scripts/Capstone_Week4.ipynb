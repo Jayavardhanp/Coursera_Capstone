{
 "cells": [
  {
   "cell_type": "markdown",
   "metadata": {},
   "source": [
    "# Introduction/Business Problem:\n",
    "\n",
    "In Today's busy world, Entertainment is very important for the people in order to comeout of the daily work pressure particularly in metropolitan cities. As a result of this, Multiplexes became one of the popular business opportunities for the Builders. However, there is a lot of compitition in the market for new builders. Hence, the anlysis done in this project would be helpful for new builders to provide an insight of the location data where there are already good number of multiplexes in place. Based on this data and analysis, New builders can make decisions on the locality to start the construction.\n",
    "\n",
    "This Business case is focuses on Bengaluru real estate builders to take appropriate decissions to start the ventures.\n"
   ]
  },
  {
   "cell_type": "markdown",
   "metadata": {},
   "source": [
    "# Data:\n",
    "\n",
    "In order to perform the Analysis and provide solution, we have to consider several data points mentioned as below.\n",
    "\n",
    "1. Popular locations in Bangalore. Can be mentioned as Neighbors of the Bangalore.\n",
    "2. Longitude and Latitudes of the locations.\n",
    "3. Number of Multiplexes in the neighbors.\n",
    "4. Venues in the neighbors.\n",
    "\n",
    "I extracted the data of neighborhoods of Bangalore from Wikipedia. Got the respective Longitudes and Latitudes for the respective locations using Geocoder packages from python.Used Foursquare APIs to extract the number of Multiplexes in Bangalore in several locations. Derive the longitude,latitude and number of multiplexes in the respective neighbothood of Bangalore."
   ]
  },
  {
   "cell_type": "code",
   "execution_count": null,
   "metadata": {},
   "outputs": [],
   "source": []
  }
 ],
 "metadata": {
  "kernelspec": {
   "display_name": "Python 3",
   "language": "python",
   "name": "python3"
  },
  "language_info": {
   "codemirror_mode": {
    "name": "ipython",
    "version": 3
   },
   "file_extension": ".py",
   "mimetype": "text/x-python",
   "name": "python",
   "nbconvert_exporter": "python",
   "pygments_lexer": "ipython3",
   "version": "3.7.6"
  }
 },
 "nbformat": 4,
 "nbformat_minor": 4
}
